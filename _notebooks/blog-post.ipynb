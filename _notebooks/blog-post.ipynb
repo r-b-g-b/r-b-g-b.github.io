{
 "cells": [
  {
   "cell_type": "markdown",
   "metadata": {},
   "source": [
    "The first step is getting the raw data that will allow us to do the actual analysis. This will include:\n",
    " - **Geographic data** of the areas in which we want to analyze diversity.\n",
    " - **Demographic data** for the same geographical areas"
   ]
  },
  {
   "cell_type": "markdown",
   "metadata": {},
   "source": [
    "# Geographic data\n",
    "Luckily the US Census Bureau has us covered, providing \"shapefiles\" for all sorts of things through something called [TIGER](https://www.census.gov/cgi-bin/geo/shapefiles/index.php?year=2010&layergroup=Census+Tracts) (rawwwwwr):\n",
    "\n",
    "From the drop-down menu for Census Tract (2010) select California, then click the \"Download state file\" button. Wonderfully, the download doesn't begin. Checking the javascript console reveals that:\n",
    "\n",
    "> ``index.php?year=2010&layergroup=Census+Tracts:1 Mixed Content: The page at 'https://www.census.gov/cgi-bin/geo/shapefiles/index.php?year=2010&layergroup=Census+Tracts' was loaded over HTTPS, but requested an insecure resource 'http://www2.census.gov/geo/tiger/TIGER2010/TRACT/2010/tl_2010_06001_tract10.zip'. This request has been blocked; the content must be served over HTTPS.``\n",
    "\n",
    "So just reload the page changing ``https:`` to ``http:`` and get yourself some geodata!\n",
    "\n",
    "The file is named `tl_2010_06_tract10.zip`, `2010` referring to the census year, `06` is the state code for California. Shapefiles are proprietary (boo) and old, so we convert them to the cooler geoJSON format using a command-line tool called `ogr2ogr`."
   ]
  },
  {
   "cell_type": "code",
   "execution_count": null,
   "metadata": {
    "collapsed": false
   },
   "outputs": [],
   "source": [
    "!ogr2ogr -f GeoJSON -t_srs crs:84 ca-tract.geojson ../geodata/ca-tract-shapefiles/tl_2010_06_tract10.shp"
   ]
  },
  {
   "cell_type": "markdown",
   "metadata": {},
   "source": [
    "Now the file is good plain `json` with special fields that make it \"GEO.\" So we load it with the `json` python module"
   ]
  },
  {
   "cell_type": "code",
   "execution_count": 1,
   "metadata": {
    "collapsed": true
   },
   "outputs": [],
   "source": [
    "import json"
   ]
  },
  {
   "cell_type": "code",
   "execution_count": null,
   "metadata": {
    "collapsed": true
   },
   "outputs": [],
   "source": [
    "with open('ca-tract.geojson', 'r') as f:\n",
    "    geodata = json.load(f)"
   ]
  },
  {
   "cell_type": "markdown",
   "metadata": {},
   "source": [
    "This file contains the entire state of California, but for now I just want to look at the \"Bay Area\" counties. The census uses something called FIPS codes to refer to those, which I got from wikipedia:\n",
    " - [Alameda County (1)](https://en.wikipedia.org/wiki/Alameda_county)\n",
    " - SF County (75)\n",
    " - Marin County (41)\n",
    " - Contra Costa County (13)\n",
    " \n",
    "I'll use these codes to filter out the geodata for just those counties and save it to another, smaller geoJSON file."
   ]
  },
  {
   "cell_type": "code",
   "execution_count": 2,
   "metadata": {
    "collapsed": true
   },
   "outputs": [],
   "source": [
    "county_codes = [1, 13, 41, 75]\n",
    "county_codes_str = ['%3.3i' % c for c in county_codes]"
   ]
  },
  {
   "cell_type": "code",
   "execution_count": null,
   "metadata": {
    "collapsed": false
   },
   "outputs": [],
   "source": [
    "geodata_bayarea = dict(crs=geodata['crs'], type=geodata['type'])\n",
    "geodata_bayarea['features'] = [f for f in geodata['features'] if f['properties']['COUNTYFP10'] in county_codes_str]\n",
    "with open('bayarea-tract.geojson', 'w') as f:\n",
    "    json.dump(geodata_bayarea, f)"
   ]
  },
  {
   "cell_type": "code",
   "execution_count": 3,
   "metadata": {
    "collapsed": false
   },
   "outputs": [],
   "source": [
    "with open('bayarea-tract.geojson', 'r') as f:\n",
    "    geodata_bayarea = json.load(f)"
   ]
  },
  {
   "cell_type": "markdown",
   "metadata": {},
   "source": [
    "# Demographic data"
   ]
  },
  {
   "cell_type": "markdown",
   "metadata": {},
   "source": [
    "The US Census Bureau operates an API for finding census data at http://factfinder.census.gov/\n",
    "I found the census data through the \"[Download Center](http://factfinder.census.gov/faces/nav/jsf/pages/download_center.xhtml)\"\n",
    "\n",
    "There are a couple of steps:\n",
    " - Select the radio button **I know the dataset or table(s) that I want to download**, then **Next**\n",
    " - Select **Decennial Census** from the dropdown menu\n",
    " - Select **2010 SF 100% Data**, then **Add to your selections**, then **Next**\n",
    " - Select **State ... Place ... County (or part) ... Census Tract (or part)**\n",
    "\n",
    "The table named **Race and Hispanic or Latino Origin: 2010** contains counts for all races. Select that, download it and you're off!"
   ]
  },
  {
   "cell_type": "code",
   "execution_count": 4,
   "metadata": {
    "collapsed": false
   },
   "outputs": [],
   "source": [
    "import pandas as pd\n",
    "import numpy as np\n",
    "\n",
    "from matplotlib import pyplot as plt\n",
    "import seaborn as sns\n",
    "%matplotlib inline"
   ]
  },
  {
   "cell_type": "code",
   "execution_count": 5,
   "metadata": {
    "collapsed": true
   },
   "outputs": [],
   "source": [
    "demdata = pd.read_csv('../censusdata/DEC_10_SF1_QTP3_with_ann.csv')"
   ]
  },
  {
   "cell_type": "code",
   "execution_count": 6,
   "metadata": {
    "collapsed": false
   },
   "outputs": [],
   "source": [
    "column_description = demdata.ix[0]\n",
    "demdata = demdata.ix[1:].copy()"
   ]
  },
  {
   "cell_type": "code",
   "execution_count": 7,
   "metadata": {
    "collapsed": false
   },
   "outputs": [],
   "source": [
    "column_mapper = {'GEO.id': 'geoid',\n",
    "     'HD01_S01': 'total',\n",
    "     'HD01_S02': 'one_race',\n",
    "     'HD01_S03': 'numWhite',\n",
    "     'HD01_S04': 'numBlack',\n",
    "     'HD01_S05': 'numAI',\n",
    "     'HD01_S10': 'numAsian',\n",
    "     'HD01_S23': 'num1Other',\n",
    "     'HD01_S24': 'num2Other',\n",
    "     'HD01_S30': 'numHisp'}\n",
    "demdata = demdata[column_mapper.keys()]\n",
    "demdata.rename(columns=column_mapper, inplace=True)"
   ]
  },
  {
   "cell_type": "markdown",
   "metadata": {},
   "source": [
    "We need to do a little parsing of the geo id to get the county code and tract numbers. The `extract` method appears to do what we want, extracting substrings based on regular expression matches."
   ]
  },
  {
   "cell_type": "code",
   "execution_count": 8,
   "metadata": {
    "collapsed": false
   },
   "outputs": [
    {
     "data": {
      "text/html": [
       "<div>\n",
       "<table border=\"1\" class=\"dataframe\">\n",
       "  <thead>\n",
       "    <tr style=\"text-align: right;\">\n",
       "      <th></th>\n",
       "      <th>numAsian</th>\n",
       "      <th>numHisp</th>\n",
       "      <th>num2Other</th>\n",
       "      <th>numWhite</th>\n",
       "      <th>one_race</th>\n",
       "      <th>total</th>\n",
       "      <th>num1Other</th>\n",
       "      <th>numAI</th>\n",
       "      <th>numBlack</th>\n",
       "      <th>county</th>\n",
       "      <th>tract</th>\n",
       "    </tr>\n",
       "    <tr>\n",
       "      <th>geoid</th>\n",
       "      <th></th>\n",
       "      <th></th>\n",
       "      <th></th>\n",
       "      <th></th>\n",
       "      <th></th>\n",
       "      <th></th>\n",
       "      <th></th>\n",
       "      <th></th>\n",
       "      <th></th>\n",
       "      <th></th>\n",
       "      <th></th>\n",
       "    </tr>\n",
       "  </thead>\n",
       "  <tbody>\n",
       "    <tr>\n",
       "      <th>1400000US06001400100</th>\n",
       "      <td>456</td>\n",
       "      <td>117</td>\n",
       "      <td>116</td>\n",
       "      <td>2161</td>\n",
       "      <td>2821</td>\n",
       "      <td>2937</td>\n",
       "      <td>49</td>\n",
       "      <td>4</td>\n",
       "      <td>142</td>\n",
       "      <td>001</td>\n",
       "      <td>4001</td>\n",
       "    </tr>\n",
       "    <tr>\n",
       "      <th>1400000US06001400200</th>\n",
       "      <td>147</td>\n",
       "      <td>151</td>\n",
       "      <td>115</td>\n",
       "      <td>1659</td>\n",
       "      <td>1859</td>\n",
       "      <td>1974</td>\n",
       "      <td>16</td>\n",
       "      <td>4</td>\n",
       "      <td>33</td>\n",
       "      <td>001</td>\n",
       "      <td>4002</td>\n",
       "    </tr>\n",
       "    <tr>\n",
       "      <th>1400000US06001400300</th>\n",
       "      <td>423</td>\n",
       "      <td>399</td>\n",
       "      <td>319</td>\n",
       "      <td>3468</td>\n",
       "      <td>4546</td>\n",
       "      <td>4865</td>\n",
       "      <td>115</td>\n",
       "      <td>17</td>\n",
       "      <td>518</td>\n",
       "      <td>001</td>\n",
       "      <td>4003</td>\n",
       "    </tr>\n",
       "    <tr>\n",
       "      <th>1400000US06001400400</th>\n",
       "      <td>278</td>\n",
       "      <td>332</td>\n",
       "      <td>230</td>\n",
       "      <td>2628</td>\n",
       "      <td>3473</td>\n",
       "      <td>3703</td>\n",
       "      <td>91</td>\n",
       "      <td>14</td>\n",
       "      <td>456</td>\n",
       "      <td>001</td>\n",
       "      <td>4004</td>\n",
       "    </tr>\n",
       "  </tbody>\n",
       "</table>\n",
       "</div>"
      ],
      "text/plain": [
       "                     numAsian numHisp num2Other numWhite one_race total  \\\n",
       "geoid                                                                     \n",
       "1400000US06001400100      456     117       116     2161     2821  2937   \n",
       "1400000US06001400200      147     151       115     1659     1859  1974   \n",
       "1400000US06001400300      423     399       319     3468     4546  4865   \n",
       "1400000US06001400400      278     332       230     2628     3473  3703   \n",
       "\n",
       "                     num1Other numAI numBlack county tract  \n",
       "geoid                                                       \n",
       "1400000US06001400100        49     4      142    001  4001  \n",
       "1400000US06001400200        16     4       33    001  4002  \n",
       "1400000US06001400300       115    17      518    001  4003  \n",
       "1400000US06001400400        91    14      456    001  4004  "
      ]
     },
     "execution_count": 8,
     "metadata": {},
     "output_type": "execute_result"
    }
   ],
   "source": [
    "demdata['county'] = demdata.geoid.str.extract('US06(\\d\\d\\d)')\n",
    "demdata = demdata.ix[demdata.county.isin(county_codes_str)].copy()\n",
    "demdata['tract'] = demdata.geoid.str.extract('US\\d\\d\\d\\d\\d(\\d\\d\\d\\d)')\n",
    "demdata.set_index('geoid', inplace=True)\n",
    "demdata.head(4)"
   ]
  },
  {
   "cell_type": "code",
   "execution_count": 9,
   "metadata": {
    "collapsed": false
   },
   "outputs": [],
   "source": [
    "demdata = demdata.astype(str)"
   ]
  },
  {
   "cell_type": "markdown",
   "metadata": {},
   "source": [
    "A few of the entries contain a suffix (r39...). I don't know exactly what that means, but my hunch is that it's tagging data that was revised for some reason or another. In any case, it messes with the conversion from string to integer, so it's gotta go.\n",
    "\n",
    "Again `Series.extract` is our string parsing friend.\n",
    "\n",
    "Here, I convert everything to `int`, printing the changes to make sure nothing wonky happens."
   ]
  },
  {
   "cell_type": "code",
   "execution_count": 10,
   "metadata": {
    "collapsed": false
   },
   "outputs": [],
   "source": [
    "for col in demdata:\n",
    "    demdata_col = demdata[col]\n",
    "    demdata_col_extract = demdata_col.str.extract('(\\d+)')\n",
    "    demdata[col] = demdata_col_extract.astype(int)"
   ]
  },
  {
   "cell_type": "code",
   "execution_count": 11,
   "metadata": {
    "collapsed": true
   },
   "outputs": [],
   "source": [
    "demdata_counts = demdata.filter(regex='^num')"
   ]
  },
  {
   "cell_type": "code",
   "execution_count": 12,
   "metadata": {
    "collapsed": false
   },
   "outputs": [
    {
     "data": {
      "image/png": "[encoded data removed]",
      "text/plain": [
       "<matplotlib.figure.Figure at 0x1044c6c50>"
      ]
     },
     "metadata": {},
     "output_type": "display_data"
    }
   ],
   "source": [
    "fig, ax = plt.subplots();\n",
    "demdata_counts.sum().sort_values(ascending=False).plot.bar(ax=ax);\n",
    "ax.set_title('Overall distribution of races in California');"
   ]
  },
  {
   "cell_type": "markdown",
   "metadata": {},
   "source": [
    "# Compute diversity index\n",
    "Now we need some way to turn all these census counts into some value that expresses diversity. I read about a method used by [Missouri state](http://diversity.missouristate.edu/DiversityIndex.htm) that seemed to make intuitive sense. It's the probability that two randomly chosen people in the census tract will be of different races and comes directly from some very basic laws of probability. Start with a formula for \"Homogeneity,\" the probability of drawing two people of the same race. Since draws are independent, that probability is\n",
    "$$P(\\text{race1})*P(\\text{race1})=P(\\text{race1})^2$$\n",
    "\n",
    "Then the probability of drawing two people of the same race is the sum of the squared probabilities for each of the races.\n",
    "\n",
    "$$\\text{Homogeneity}=P(\\text{Asian})^2+P(\\text{Black})^2+P(\\text{Hispanic})^2+P(\\text{White})^2+P(\\text{Other})^2$$\n",
    "\n",
    "$$\\text{Diversity}=1-\\text{Homogeneity}$$"
   ]
  },
  {
   "cell_type": "code",
   "execution_count": 13,
   "metadata": {
    "collapsed": true
   },
   "outputs": [],
   "source": [
    "def calculate_diversity(df):\n",
    "    total = df.sum(1)\n",
    "    col_names = df.columns\n",
    "    p = pd.DataFrame(index=df.index)\n",
    "    for col_name in col_names:\n",
    "        p[col_name.replace('num', 'p')] = df[col_name]/total\n",
    "    \n",
    "    diversity = (1-(p**2).sum(1))*100\n",
    "    return diversity"
   ]
  },
  {
   "cell_type": "code",
   "execution_count": 14,
   "metadata": {
    "collapsed": true
   },
   "outputs": [],
   "source": [
    "demdata['diversity'] = calculate_diversity(demdata_counts)"
   ]
  },
  {
   "cell_type": "markdown",
   "metadata": {},
   "source": [
    "# Combining geographic and demographic data\n",
    "Now we make ourselves a *choropleth*, which is the fancy cartographer's word for colory map. We'll use the fantastic python module [folium](https://github.com/python-visualization/folium), which makes beautiful d3 maps without me having to type a line of javascript."
   ]
  },
  {
   "cell_type": "code",
   "execution_count": 15,
   "metadata": {
    "collapsed": true
   },
   "outputs": [],
   "source": [
    "import folium"
   ]
  },
  {
   "cell_type": "code",
   "execution_count": 16,
   "metadata": {
    "collapsed": true
   },
   "outputs": [],
   "source": [
    "def area_for_polygon(polygon):\n",
    "    result = 0\n",
    "    imax = len(polygon) - 1\n",
    "    for i in range(0,imax):\n",
    "        result += (polygon[i][0] * polygon[i+1][1]) - (polygon[i+1][0] * polygon[i][1])\n",
    "    result += (polygon[imax][0] * polygon[0][1]) - (polygon[0][0] * polygon[imax][1])\n",
    "    return result / 2.\n",
    "\n",
    "def centroid_for_polygon(polygon):\n",
    "    area = area_for_polygon(polygon)\n",
    "    imax = len(polygon) - 1\n",
    "\n",
    "    result_x = 0\n",
    "    result_y = 0\n",
    "    for i in range(0,imax):\n",
    "        result_x += (polygon[i][0] + polygon[i+1][0]) * ((polygon[i][0] * polygon[i+1][1]) - (polygon[i+1][0] * polygon[i][1]))\n",
    "        result_y += (polygon[i][1] + polygon[i+1][1]) * ((polygon[i][0] * polygon[i+1][1]) - (polygon[i+1][0] * polygon[i][1]))\n",
    "    result_x += (polygon[imax][0] + polygon[0][0]) * ((polygon[imax][0] * polygon[0][1]) - (polygon[0][0] * polygon[imax][1]))\n",
    "    result_y += (polygon[imax][1] + polygon[0][1]) * ((polygon[imax][0] * polygon[0][1]) - (polygon[0][0] * polygon[imax][1]))\n",
    "    result_x /= (area * 6.0)\n",
    "    result_y /= (area * 6.0)\n",
    "\n",
    "    return result_x, result_y"
   ]
  },
  {
   "cell_type": "code",
   "execution_count": 17,
   "metadata": {
    "collapsed": false
   },
   "outputs": [],
   "source": [
    "centroids = []\n",
    "geoids = []\n",
    "for f in geodata_bayarea['features']:\n",
    "    if f['geometry']['type']=='Polygon':\n",
    "        lon, lat = centroid_for_polygon(f['geometry']['coordinates'][0])\n",
    "        centroids.append([lat, lon])\n",
    "        geoids.append(f['properties']['GEOID10'])"
   ]
  },
  {
   "cell_type": "code",
   "execution_count": 18,
   "metadata": {
    "collapsed": true
   },
   "outputs": [],
   "source": [
    "lat_centroids, lon_centroids = zip(*centroids)"
   ]
  },
  {
   "cell_type": "code",
   "execution_count": 19,
   "metadata": {
    "collapsed": true
   },
   "outputs": [],
   "source": [
    "centroid_df = pd.DataFrame({'geoid10':geoids, 'lat_centroid':lat_centroids, 'lon_centroid':lon_centroids})\n",
    "centroid_df.set_index('geoid10', inplace=True)"
   ]
  },
  {
   "cell_type": "code",
   "execution_count": 20,
   "metadata": {
    "collapsed": true
   },
   "outputs": [],
   "source": [
    "demdata['geoid10'] = demdata.index.str.extract('US(\\d\\d\\d\\d\\d\\d\\d\\d\\d\\d\\d)')\n",
    "demdata.set_index('geoid10', inplace=True)\n",
    "demdata = demdata.join(centroid_df)\n",
    "demdata.reset_index(inplace=True)"
   ]
  },
  {
   "cell_type": "code",
   "execution_count": 21,
   "metadata": {
    "collapsed": true
   },
   "outputs": [],
   "source": [
    "label_map = {'numAsian': 'Asian', 'numBlack': 'Black', 'numHisp': 'Hispanic', 'numWhite': 'White'}"
   ]
  },
  {
   "cell_type": "code",
   "execution_count": 22,
   "metadata": {
    "collapsed": false
   },
   "outputs": [],
   "source": [
    "threshold_scale = demdata.diversity.quantile(np.arange(0., 1., 0.2)).values.tolist()"
   ]
  },
  {
   "cell_type": "code",
   "execution_count": 23,
   "metadata": {
    "collapsed": true
   },
   "outputs": [],
   "source": [
    "from IPython.display import HTML\n",
    "\n",
    "def inline_map(m, width=650, height=500):\n",
    "    \"\"\"Takes a folium instance and embed HTML.\"\"\"\n",
    "    m._build_map()\n",
    "    srcdoc = m.HTML.replace('\"', '&quot;')\n",
    "    embed = HTML('<iframe srcdoc=\"{}\" '\n",
    "                 'style=\"width: {}px; height: {}px; '\n",
    "                 'border: none\"></iframe>'.format(srcdoc, width, height))\n",
    "    return embed"
   ]
  },
  {
   "cell_type": "code",
   "execution_count": 24,
   "metadata": {
    "collapsed": false
   },
   "outputs": [
    {
     "data": {
      "text/html": [
       "<iframe srcdoc=\"<!DOCTYPE html>\n",
       "<head>\n",
       "   <meta http-equiv=&quot;content-type&quot; content=&quot;text/html; charset=UTF-8&quot; />\n",
       "   <link rel=&quot;stylesheet&quot; href=&quot;https://cdnjs.cloudflare.com/ajax/libs/leaflet/0.7.3/leaflet.css&quot; />\n",
       "   <script src=&quot;https://cdnjs.cloudflare.com/ajax/libs/leaflet/0.7.3/leaflet.js&quot;></script>\n",
       "   <script src=&quot;https://cdnjs.cloudflare.com/ajax/libs/d3/3.5.5/d3.min.js&quot; charset=&quot;utf-8&quot;></script>\n",
       "   <script src=&quot;https://cdnjs.cloudflare.com/ajax/libs/queue-async/1.0.7/queue.min.js&quot;></script>\n",
       "\n",
       "   \n",
       "   \n",
       "   \n",
       "   \n",
       "\n",
       "   <style>\n",
       "\n",
       "      html, body {\n",
       "        width: 100%;\n",
       "        height: 100%;\n",
       "        margin: 0;\n",
       "        padding: 0;\n",
       "      }\n",
       "\n",
       "      .legend {\n",
       "          padding: 0px 0px;\n",
       "          font: 10px sans-serif;\n",
       "          background: white;\n",
       "          background: rgba(255,255,255,0.8);\n",
       "          box-shadow: 0 0 15px rgba(0,0,0,0.2);\n",
       "          border-radius: 5px;\n",
       "      }\n",
       "\n",
       "      .key path {\n",
       "        display: none;\n",
       "      }\n",
       "\n",
       "   </style>\n",
       "</head>\n",
       "\n",
       "<body>\n",
       "\n",
       "   <div id=&quot;map&quot; style=&quot;width: 100%; height: 100%&quot;></div>\n",
       "\n",
       "   <script>\n",
       "\n",
       "      queue()\n",
       "          .defer(d3.json, 'data.json')\n",
       "          .defer(d3.json, 'bayarea-tract.geojson')\n",
       "          .await(makeMap)\n",
       "\n",
       "      function onEachFeature(feature, layer) {\n",
       "          // does this feature have a property named popupContent?\n",
       "          if (feature.properties && feature.properties.popupContent) {\n",
       "              layer.bindPopup(feature.properties.popupContent);\n",
       "              }\n",
       "          };\n",
       "\n",
       "      function makeMap(error, data_1,gjson_1) {\n",
       "\n",
       "          \n",
       "\n",
       "          \n",
       "\n",
       "          function matchKey(datapoint, key_variable){\n",
       "              if (typeof key_variable[0][datapoint] === 'undefined') {\n",
       "                  return null;\n",
       "              }\n",
       "              else {\n",
       "                  return parseFloat(key_variable[0][datapoint]);\n",
       "              };\n",
       "          };\n",
       "\n",
       "          \n",
       "          var color = d3.scale.threshold()\n",
       "              .domain([16.386576486570004, 49.68348824161616, 61.83300758407192, 70.38044239863444, 75.41363416167346])\n",
       "              .range(['#FFFFCC', '#C7E9B4', '#7FCDBB', '#41B6C4', '#1D91C0', '#225EA8']);\n",
       "          \n",
       "\n",
       "          var map = L.map('map').setView([37.864364, -122.211114], 9);\n",
       "\n",
       "          L.tileLayer('https://stamen-tiles-{s}.a.ssl.fastly.net/toner/{z}/{x}/{y}.png', {\n",
       "              maxZoom: 18,\n",
       "              minZoom: 1,\n",
       "              attribution: 'Map tiles by <a href=&quot;http://stamen.com&quot;>Stamen Design</a>, under <a href=&quot;http://creativecommons.org/licenses/by/3.0&quot;>CC BY 3.0</a>. Data by <a href=&quot;http://openstreetmap.org&quot;>OpenStreetMap</a>, under <a href=&quot;http://www.openstreetmap.org/copyright&quot;>ODbL</a>.'\n",
       "          }).addTo(map);\n",
       "\n",
       "          \n",
       "          function style_1(feature) {\n",
       "    return {\n",
       "        fillColor: color(matchKey(feature.properties.GEOID10, data_1)),\n",
       "        weight: 1,\n",
       "        opacity: 1,\n",
       "        color: 'black',\n",
       "        fillOpacity: 0.9\n",
       "    };\n",
       "}\n",
       "          \n",
       "\n",
       "          \n",
       "          gJson_layer_1 = L.geoJson(gjson_1, {style: style_1,onEachFeature: onEachFeature}).addTo(map)\n",
       "          \n",
       "\n",
       "          \n",
       "              var legend = L.control({position: 'topright'});\n",
       "\n",
       "    legend.onAdd = function (map) {var div = L.DomUtil.create('div', 'legend'); return div};\n",
       "\n",
       "    legend.addTo(map);\n",
       "\n",
       "    var x = d3.scale.linear()\n",
       "    .domain([0, 82])\n",
       "    .range([0, 400]);\n",
       "\n",
       "    var xAxis = d3.svg.axis()\n",
       "        .scale(x)\n",
       "        .orient(&quot;top&quot;)\n",
       "        .tickSize(1)\n",
       "        .tickValues([16.386576486570004, 49.68348824161616, 61.83300758407192, 70.38044239863444, 75.41363416167346]);\n",
       "\n",
       "    var svg = d3.select(&quot;.legend.leaflet-control&quot;).append(&quot;svg&quot;)\n",
       "        .attr(&quot;id&quot;, 'legend')\n",
       "        .attr(&quot;width&quot;, 450)\n",
       "        .attr(&quot;height&quot;, 40);\n",
       "\n",
       "    var g = svg.append(&quot;g&quot;)\n",
       "        .attr(&quot;class&quot;, &quot;key&quot;)\n",
       "        .attr(&quot;transform&quot;, &quot;translate(25,16)&quot;);\n",
       "\n",
       "    g.selectAll(&quot;rect&quot;)\n",
       "        .data(color.range().map(function(d, i) {\n",
       "          return {\n",
       "            x0: i ? x(color.domain()[i - 1]) : x.range()[0],\n",
       "            x1: i < color.domain().length ? x(color.domain()[i]) : x.range()[1],\n",
       "            z: d\n",
       "          };\n",
       "        }))\n",
       "      .enter().append(&quot;rect&quot;)\n",
       "        .attr(&quot;height&quot;, 10)\n",
       "        .attr(&quot;x&quot;, function(d) { return d.x0; })\n",
       "        .attr(&quot;width&quot;, function(d) { return d.x1 - d.x0; })\n",
       "        .style(&quot;fill&quot;, function(d) { return d.z; });\n",
       "\n",
       "    g.call(xAxis).append(&quot;text&quot;)\n",
       "        .attr(&quot;class&quot;, &quot;caption&quot;)\n",
       "        .attr(&quot;y&quot;, 21)\n",
       "        .text('diversity');\n",
       "          \n",
       "\n",
       "          \n",
       "\n",
       "          \n",
       "\n",
       "          \n",
       "\n",
       "          \n",
       "\n",
       "          \n",
       "\n",
       "          \n",
       "\n",
       "      };\n",
       "\n",
       "   </script>\n",
       "</body>\" style=\"width: 650px; height: 500px; border: none\"></iframe>"
      ],
      "text/plain": [
       "<IPython.core.display.HTML object>"
      ]
     },
     "execution_count": 24,
     "metadata": {},
     "output_type": "execute_result"
    }
   ],
   "source": [
    "m = folium.Map(location=[37.864364, -122.211114], zoom_start=9,\n",
    "               tiles='Stamen Toner',\n",
    "               attr='Map tiles by Stamen Design (stamen.com)')\n",
    "\n",
    "m.geo_json(geo_path=r'bayarea-tract.geojson', data=demdata[['geoid10', 'diversity']], \n",
    "           columns=['geoid10', 'diversity'],\n",
    "           key_on='feature.properties.GEOID10',\n",
    "           fill_color='YlGnBu',\n",
    "           fill_opacity=0.9,\n",
    "           threshold_scale=threshold_scale)\n",
    "\n",
    "m.create_map(path='bayarea-diversity-choropleth.html')\n",
    "inline_map(m)"
   ]
  },
  {
   "cell_type": "code",
   "execution_count": null,
   "metadata": {
    "collapsed": true
   },
   "outputs": [],
   "source": []
  }
 ],
 "metadata": {
  "kernelspec": {
   "display_name": "Python 2",
   "language": "python",
   "name": "python2"
  },
  "language_info": {
   "codemirror_mode": {
    "name": "ipython",
    "version": 2
   },
   "file_extension": ".py",
   "mimetype": "text/x-python",
   "name": "python",
   "nbconvert_exporter": "python",
   "pygments_lexer": "ipython2",
   "version": "2.7.10"
  }
 },
 "nbformat": 4,
 "nbformat_minor": 0
}
